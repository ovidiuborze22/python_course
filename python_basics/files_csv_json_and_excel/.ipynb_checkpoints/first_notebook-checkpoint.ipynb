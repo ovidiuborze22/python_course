{
 "cells": [
  {
   "cell_type": "code",
   "execution_count": 8,
   "id": "172ed50b",
   "metadata": {},
   "outputs": [
    {
     "name": "stdout",
     "output_type": "stream",
     "text": [
      "1\n",
      "2\n"
     ]
    }
   ],
   "source": [
    "# getting started with Jupyter\n",
    "print(1)\n",
    "print(2)"
   ]
  },
  {
   "cell_type": "code",
   "execution_count": null,
   "id": "4f4135e5",
   "metadata": {},
   "outputs": [],
   "source": [
    "# Command Mode (press Esc to enable)\n",
    "\n",
    "# Enter: enter edit mode\n",
    "    \n",
    "# Shift-Enter: run cell, select below\n",
    "    \n",
    "# Ctrl-Enter: run selected cells\n",
    "    \n",
    "# Alt-Enter: run cell and insert below\n",
    "    \n",
    "# Esc: enter command mode\n",
    "    \n",
    "# Ctrl-Enter: run selected cells\n",
    "    \n",
    "# D,D: delete selected cells\n",
    "    \n",
    "# Ctrl-S: Save and Checkpoint"
   ]
  }
 ],
 "metadata": {
  "kernelspec": {
   "display_name": "Python 3 (ipykernel)",
   "language": "python",
   "name": "python3"
  },
  "language_info": {
   "codemirror_mode": {
    "name": "ipython",
    "version": 3
   },
   "file_extension": ".py",
   "mimetype": "text/x-python",
   "name": "python",
   "nbconvert_exporter": "python",
   "pygments_lexer": "ipython3",
   "version": "3.10.7"
  },
  "vscode": {
   "interpreter": {
    "hash": "b30643ead3bcf50ce950998596e19fb6900faf76f406b43cc1565ec5fa3d6531"
   }
  }
 },
 "nbformat": 4,
 "nbformat_minor": 5
}
