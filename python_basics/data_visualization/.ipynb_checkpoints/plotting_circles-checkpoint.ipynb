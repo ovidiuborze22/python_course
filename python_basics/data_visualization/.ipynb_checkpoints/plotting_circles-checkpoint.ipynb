{
 "cells": [
  {
   "cell_type": "code",
   "execution_count": 2,
   "id": "f0496b3b",
   "metadata": {},
   "outputs": [],
   "source": [
    "#making a basic bokeh circles graph\n",
    "\n",
    "#importing Bokeh\n",
    "from bokeh.plotting import figure\n",
    "from bokeh.io import output_file, show\n",
    "\n",
    "#prepare some data\n",
    "x=[3,7.5,10]\n",
    "y=[3,6,9]\n",
    "\n",
    "# prepare the output file\n",
    "output_file(\"Circle.html\")\n",
    "\n",
    "# create a figure object\n",
    "f=figure()\n",
    "\n",
    "#create line plot\n",
    "f.circle(x,y)\n",
    "\n",
    "#write the plot in the figure object\n",
    "show(f)"
   ]
  }
 ],
 "metadata": {
  "kernelspec": {
   "display_name": "Python 3 (ipykernel)",
   "language": "python",
   "name": "python3"
  },
  "language_info": {
   "codemirror_mode": {
    "name": "ipython",
    "version": 3
   },
   "file_extension": ".py",
   "mimetype": "text/x-python",
   "name": "python",
   "nbconvert_exporter": "python",
   "pygments_lexer": "ipython3",
   "version": "3.10.7"
  }
 },
 "nbformat": 4,
 "nbformat_minor": 5
}
