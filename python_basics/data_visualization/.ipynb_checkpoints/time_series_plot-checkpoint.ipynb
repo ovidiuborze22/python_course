{
 "cells": [
  {
   "cell_type": "code",
   "execution_count": 10,
   "id": "2b8d9d39",
   "metadata": {},
   "outputs": [],
   "source": [
    "# creating time series plot\n",
    "from bokeh.plotting import figure, output_file, show\n",
    "import pandas\n",
    "\n",
    "df=pandas.read_csv(\"data_files/adbe.csv\", parse_dates=[\"Date\"])\n",
    "\n",
    "p=figure(width=500, height=250, x_axis_type=\"datetime\", sizing_mode=\"scale_width\")\n",
    "\n",
    "p.line(df[\"Date\"],df[\"Close\"], color=\"Orange\", alpha=0.5)\n",
    "\n",
    "output_file(\"html_files/Timeseries.html\")\n",
    "show(p)"
   ]
  }
 ],
 "metadata": {
  "kernelspec": {
   "display_name": "Python 3 (ipykernel)",
   "language": "python",
   "name": "python3"
  },
  "language_info": {
   "codemirror_mode": {
    "name": "ipython",
    "version": 3
   },
   "file_extension": ".py",
   "mimetype": "text/x-python",
   "name": "python",
   "nbconvert_exporter": "python",
   "pygments_lexer": "ipython3",
   "version": "3.10.7"
  }
 },
 "nbformat": 4,
 "nbformat_minor": 5
}
