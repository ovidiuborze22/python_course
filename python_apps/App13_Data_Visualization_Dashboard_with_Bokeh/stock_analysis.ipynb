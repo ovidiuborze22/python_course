{
 "cells": [
  {
   "cell_type": "markdown",
   "id": "0835ef86",
   "metadata": {},
   "source": [
    "# Data Visualization Dashboard with Bokeh"
   ]
  },
  {
   "cell_type": "code",
   "execution_count": 26,
   "id": "38f7632c",
   "metadata": {},
   "outputs": [],
   "source": [
    "from pandas_datareader import data\n",
    "import datetime\n",
    "from bokeh.plotting import figure, show, output_file\n",
    "from bokeh.embed import components\n",
    "from bokeh.resources import CDN\n",
    "\n",
    "start=datetime.datetime(2022,1,1)\n",
    "end=datetime.datetime(2022,5,1)\n",
    "df=data.DataReader(name=\"GOOG\", data_source=\"yahoo\",start=start,end=end)\n",
    "\n",
    "#df.index\n",
    "#df.Open\n",
    "def inc_dec(c,o):\n",
    "    if c > o:\n",
    "        value=\"Increase\"\n",
    "    elif c < o:\n",
    "        value=\"Decrease\"\n",
    "    else:\n",
    "        value=\"Equal\"\n",
    "    return value\n",
    "\n",
    "df[\"Status\"]=[inc_dec(c,o) for c,o in zip(df.Close,df.Open)]\n",
    "df['Middle']=(df.Open+df.Close)/2\n",
    "df['Height']=abs(df.Close-df.Open)\n",
    "\n",
    "p=figure(x_axis_type='datetime', width=1000, height=300, sizing_mode=\"scale_width\")\n",
    "p.title=\"Candlestick Chart\"\n",
    "p.title.text_font_size='20pt'\n",
    "p.title.align = 'center'\n",
    "p.grid.grid_line_alpha=0.3\n",
    "\n",
    "\n",
    "hours_12=12*60*60*1000\n",
    "\n",
    "p.segment(df.index, df.High, df.index, df.Low, color=\"Black\")\n",
    "\n",
    "p.rect(df.index[df.Status==\"Increase\"], df.Middle[df.Status==\"Increase\"], \n",
    "       hours_12, df.Height[df.Status==\"Increase\"],fill_color=\"#CCFFFF\", line_color=\"black\")\n",
    "\n",
    "p.rect(df.index[df.Status==\"Decrease\"], df.Middle[df.Status==\"Decrease\"], \n",
    "       hours_12, df.Height[df.Status==\"Decrease\"],fill_color=\"#FF3333\", line_color=\"black\")\n",
    "\n",
    "\n",
    "script1, div1 = components(p)\n",
    "cdn_js=CDN.js_files\n",
    "cdn_css=CDN.css_files\n",
    "\n",
    "#output_file=(\"Stock.html\")\n",
    "#show(p)"
   ]
  },
  {
   "cell_type": "code",
   "execution_count": 21,
   "id": "091e85a8",
   "metadata": {},
   "outputs": [
    {
     "name": "stdout",
     "output_type": "stream",
     "text": [
      "<div id=\"3edb9577-c2d5-4f5c-b43a-c50c548b84ee\" data-root-id=\"p2237\" style=\"display: contents;\"></div>\n"
     ]
    }
   ],
   "source": [
    "#print(script1)\n",
    "print(div1)"
   ]
  },
  {
   "cell_type": "code",
   "execution_count": 24,
   "id": "8cfa03cc",
   "metadata": {},
   "outputs": [
    {
     "data": {
      "text/plain": [
       "'https://cdn.bokeh.org/bokeh/release/bokeh-3.0.1.min.js'"
      ]
     },
     "execution_count": 24,
     "metadata": {},
     "output_type": "execute_result"
    }
   ],
   "source": [
    "cdn_js[0]"
   ]
  },
  {
   "cell_type": "code",
   "execution_count": 27,
   "id": "ccb0ac34",
   "metadata": {},
   "outputs": [
    {
     "data": {
      "text/plain": [
       "[]"
      ]
     },
     "execution_count": 27,
     "metadata": {},
     "output_type": "execute_result"
    }
   ],
   "source": [
    "cdn_css"
   ]
  }
 ],
 "metadata": {
  "kernelspec": {
   "display_name": "Python 3 (ipykernel)",
   "language": "python",
   "name": "python3"
  },
  "language_info": {
   "codemirror_mode": {
    "name": "ipython",
    "version": 3
   },
   "file_extension": ".py",
   "mimetype": "text/x-python",
   "name": "python",
   "nbconvert_exporter": "python",
   "pygments_lexer": "ipython3",
   "version": "3.10.7"
  }
 },
 "nbformat": 4,
 "nbformat_minor": 5
}
