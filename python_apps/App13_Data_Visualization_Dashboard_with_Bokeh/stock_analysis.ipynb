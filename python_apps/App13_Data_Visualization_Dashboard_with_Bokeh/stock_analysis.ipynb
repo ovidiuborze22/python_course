{
 "cells": [
  {
   "cell_type": "markdown",
   "id": "0835ef86",
   "metadata": {},
   "source": [
    "# Data Visualization Dashboard with Bokeh"
   ]
  },
  {
   "cell_type": "code",
   "execution_count": 98,
   "id": "38f7632c",
   "metadata": {},
   "outputs": [],
   "source": [
    "from pandas_datareader import data\n",
    "import datetime\n",
    "from bokeh.plotting import figure, show, output_file\n",
    "\n",
    "start=datetime.datetime(2022,1,1)\n",
    "end=datetime.datetime(2022,5,1)\n",
    "df=data.DataReader(name=\"GOOG\", data_source=\"yahoo\",start=start,end=end)"
   ]
  },
  {
   "cell_type": "code",
   "execution_count": 99,
   "id": "e28dab41",
   "metadata": {},
   "outputs": [],
   "source": [
    "#df.index\n",
    "#df.Open\n",
    "def inc_dec(c,o):\n",
    "    if c > o:\n",
    "        value=\"Increase\"\n",
    "    elif c < o:\n",
    "        value=\"Decrease\"\n",
    "    else:\n",
    "        value=\"Equal\"\n",
    "    return value\n",
    "\n",
    "df[\"Status\"]=[inc_dec(c,o) for c,o in zip(df.Close,df.Open)]\n",
    "df['Middle']=(df.Open+df.Close)/2\n",
    "df['Height']=abs(df.Close-df.Open)"
   ]
  },
  {
   "cell_type": "code",
   "execution_count": 101,
   "id": "692ea429",
   "metadata": {},
   "outputs": [],
   "source": [
    "p=figure(x_axis_type='datetime', width=1000, height=300, sizing_mode=\"scale_width\")\n",
    "p.title=\"Candlestick Chart\"\n",
    "p.title.text_font_size='20pt'\n",
    "p.title.align = 'center'\n",
    "p.grid.grid_line_alpha=0.3\n",
    "\n",
    "\n",
    "hours_12=12*60*60*1000\n",
    "\n",
    "p.segment(df.index, df.High, df.index, df.Low, color=\"Black\")\n",
    "\n",
    "p.rect(df.index[df.Status==\"Increase\"], df.Middle[df.Status==\"Increase\"], \n",
    "       hours_12, df.Height[df.Status==\"Increase\"],fill_color=\"#CCFFFF\", line_color=\"black\")\n",
    "\n",
    "p.rect(df.index[df.Status==\"Decrease\"], df.Middle[df.Status==\"Decrease\"], \n",
    "       hours_12, df.Height[df.Status==\"Decrease\"],fill_color=\"#FF3333\", line_color=\"black\")\n",
    "\n",
    "\n",
    "output_file=(\"Stock.html\")\n",
    "show(p)"
   ]
  },
  {
   "cell_type": "code",
   "execution_count": null,
   "id": "091e85a8",
   "metadata": {},
   "outputs": [],
   "source": []
  }
 ],
 "metadata": {
  "kernelspec": {
   "display_name": "Python 3 (ipykernel)",
   "language": "python",
   "name": "python3"
  },
  "language_info": {
   "codemirror_mode": {
    "name": "ipython",
    "version": 3
   },
   "file_extension": ".py",
   "mimetype": "text/x-python",
   "name": "python",
   "nbconvert_exporter": "python",
   "pygments_lexer": "ipython3",
   "version": "3.10.7"
  }
 },
 "nbformat": 4,
 "nbformat_minor": 5
}
