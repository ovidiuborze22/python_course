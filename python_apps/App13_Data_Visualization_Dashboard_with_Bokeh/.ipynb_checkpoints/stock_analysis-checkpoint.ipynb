{
 "cells": [
  {
   "cell_type": "markdown",
   "id": "2f59df1c",
   "metadata": {},
   "source": [
    "# Data Visualization Dashboard with Bokeh"
   ]
  },
  {
   "cell_type": "code",
   "execution_count": 45,
   "id": "d832065d",
   "metadata": {},
   "outputs": [
    {
     "data": {
      "text/html": [
       "<div>\n",
       "<style scoped>\n",
       "    .dataframe tbody tr th:only-of-type {\n",
       "        vertical-align: middle;\n",
       "    }\n",
       "\n",
       "    .dataframe tbody tr th {\n",
       "        vertical-align: top;\n",
       "    }\n",
       "\n",
       "    .dataframe thead th {\n",
       "        text-align: right;\n",
       "    }\n",
       "</style>\n",
       "<table border=\"1\" class=\"dataframe\">\n",
       "  <thead>\n",
       "    <tr style=\"text-align: right;\">\n",
       "      <th></th>\n",
       "      <th>High</th>\n",
       "      <th>Low</th>\n",
       "      <th>Open</th>\n",
       "      <th>Close</th>\n",
       "      <th>Volume</th>\n",
       "      <th>Adj Close</th>\n",
       "    </tr>\n",
       "    <tr>\n",
       "      <th>Date</th>\n",
       "      <th></th>\n",
       "      <th></th>\n",
       "      <th></th>\n",
       "      <th></th>\n",
       "      <th></th>\n",
       "      <th></th>\n",
       "    </tr>\n",
       "  </thead>\n",
       "  <tbody>\n",
       "    <tr>\n",
       "      <th>2022-03-01</th>\n",
       "      <td>136.110992</td>\n",
       "      <td>133.378494</td>\n",
       "      <td>134.479996</td>\n",
       "      <td>134.167999</td>\n",
       "      <td>24640000</td>\n",
       "      <td>134.167999</td>\n",
       "    </tr>\n",
       "    <tr>\n",
       "      <th>2022-03-02</th>\n",
       "      <td>135.615494</td>\n",
       "      <td>133.432495</td>\n",
       "      <td>134.608246</td>\n",
       "      <td>134.751495</td>\n",
       "      <td>23966000</td>\n",
       "      <td>134.751495</td>\n",
       "    </tr>\n",
       "    <tr>\n",
       "      <th>2022-03-03</th>\n",
       "      <td>136.713806</td>\n",
       "      <td>133.431000</td>\n",
       "      <td>135.978500</td>\n",
       "      <td>134.307999</td>\n",
       "      <td>19780000</td>\n",
       "      <td>134.307999</td>\n",
       "    </tr>\n",
       "    <tr>\n",
       "      <th>2022-03-04</th>\n",
       "      <td>134.199005</td>\n",
       "      <td>130.408493</td>\n",
       "      <td>133.382507</td>\n",
       "      <td>132.121994</td>\n",
       "      <td>24446000</td>\n",
       "      <td>132.121994</td>\n",
       "    </tr>\n",
       "    <tr>\n",
       "      <th>2022-03-07</th>\n",
       "      <td>131.904007</td>\n",
       "      <td>126.410004</td>\n",
       "      <td>131.904007</td>\n",
       "      <td>126.464500</td>\n",
       "      <td>39178000</td>\n",
       "      <td>126.464500</td>\n",
       "    </tr>\n",
       "    <tr>\n",
       "      <th>2022-03-08</th>\n",
       "      <td>131.246506</td>\n",
       "      <td>125.860748</td>\n",
       "      <td>126.250504</td>\n",
       "      <td>127.278503</td>\n",
       "      <td>35250000</td>\n",
       "      <td>127.278503</td>\n",
       "    </tr>\n",
       "    <tr>\n",
       "      <th>2022-03-09</th>\n",
       "      <td>134.198502</td>\n",
       "      <td>130.087997</td>\n",
       "      <td>131.399994</td>\n",
       "      <td>133.865997</td>\n",
       "      <td>32258000</td>\n",
       "      <td>133.865997</td>\n",
       "    </tr>\n",
       "    <tr>\n",
       "      <th>2022-03-10</th>\n",
       "      <td>133.538498</td>\n",
       "      <td>131.401001</td>\n",
       "      <td>131.462494</td>\n",
       "      <td>132.682007</td>\n",
       "      <td>24266000</td>\n",
       "      <td>132.682007</td>\n",
       "    </tr>\n",
       "  </tbody>\n",
       "</table>\n",
       "</div>"
      ],
      "text/plain": [
       "                  High         Low        Open       Close    Volume  \\\n",
       "Date                                                                   \n",
       "2022-03-01  136.110992  133.378494  134.479996  134.167999  24640000   \n",
       "2022-03-02  135.615494  133.432495  134.608246  134.751495  23966000   \n",
       "2022-03-03  136.713806  133.431000  135.978500  134.307999  19780000   \n",
       "2022-03-04  134.199005  130.408493  133.382507  132.121994  24446000   \n",
       "2022-03-07  131.904007  126.410004  131.904007  126.464500  39178000   \n",
       "2022-03-08  131.246506  125.860748  126.250504  127.278503  35250000   \n",
       "2022-03-09  134.198502  130.087997  131.399994  133.865997  32258000   \n",
       "2022-03-10  133.538498  131.401001  131.462494  132.682007  24266000   \n",
       "\n",
       "             Adj Close  \n",
       "Date                    \n",
       "2022-03-01  134.167999  \n",
       "2022-03-02  134.751495  \n",
       "2022-03-03  134.307999  \n",
       "2022-03-04  132.121994  \n",
       "2022-03-07  126.464500  \n",
       "2022-03-08  127.278503  \n",
       "2022-03-09  133.865997  \n",
       "2022-03-10  132.682007  "
      ]
     },
     "execution_count": 45,
     "metadata": {},
     "output_type": "execute_result"
    }
   ],
   "source": [
    "from pandas_datareader import data\n",
    "import datetime\n",
    "from bokeh.plotting import figure, show, output_file\n",
    "\n",
    "start=datetime.datetime(2022,3,1)\n",
    "end=datetime.datetime(2022,3,10)\n",
    "df=data.DataReader(name=\"GOOG\", data_source=\"yahoo\",start=start,end=end)\n",
    "df"
   ]
  },
  {
   "cell_type": "code",
   "execution_count": 46,
   "id": "953ffe36",
   "metadata": {},
   "outputs": [],
   "source": [
    "#df.index\n",
    "#df.Open\n",
    "def inc_dec(c,o):\n",
    "    if c > o:\n",
    "        value=\"Increase\"\n",
    "    elif c < o:\n",
    "        value=\"Decrease\"\n",
    "    else:\n",
    "        value=\"Equal\"\n",
    "    return value\n",
    "\n",
    "df[\"Status\"]=[inc_dec(c,o) for c,o in zip(df.Close,df.Open)]"
   ]
  },
  {
   "cell_type": "code",
   "execution_count": 47,
   "id": "bfebd09a",
   "metadata": {},
   "outputs": [],
   "source": [
    "df['Middle']=(df.Open+df.Close)/2\n",
    "df['Height']=abs(df.Close-df.Open)"
   ]
  },
  {
   "cell_type": "code",
   "execution_count": 48,
   "id": "0412f88f",
   "metadata": {},
   "outputs": [
    {
     "data": {
      "text/plain": [
       "DatetimeIndex(['2022-03-02', '2022-03-08', '2022-03-09', '2022-03-10'], dtype='datetime64[ns]', name='Date', freq=None)"
      ]
     },
     "execution_count": 48,
     "metadata": {},
     "output_type": "execute_result"
    }
   ],
   "source": [
    "date_increase"
   ]
  },
  {
   "cell_type": "code",
   "execution_count": 49,
   "id": "518f034a",
   "metadata": {},
   "outputs": [
    {
     "ename": "AttributeError",
     "evalue": "'DataFrame' object has no attribute 'Midle'",
     "output_type": "error",
     "traceback": [
      "\u001b[1;31m---------------------------------------------------------------------------\u001b[0m",
      "\u001b[1;31mAttributeError\u001b[0m                            Traceback (most recent call last)",
      "Cell \u001b[1;32mIn [49], line 9\u001b[0m\n\u001b[0;32m      4\u001b[0m hours_12\u001b[38;5;241m=\u001b[39m\u001b[38;5;241m12\u001b[39m\u001b[38;5;241m*\u001b[39m\u001b[38;5;241m60\u001b[39m\u001b[38;5;241m*\u001b[39m\u001b[38;5;241m60\u001b[39m\u001b[38;5;241m*\u001b[39m\u001b[38;5;241m1000\u001b[39m\n\u001b[0;32m      6\u001b[0m p\u001b[38;5;241m.\u001b[39mrect(df\u001b[38;5;241m.\u001b[39mindex[df\u001b[38;5;241m.\u001b[39mStatus\u001b[38;5;241m==\u001b[39m\u001b[38;5;124m\"\u001b[39m\u001b[38;5;124mIncrease\u001b[39m\u001b[38;5;124m\"\u001b[39m], df\u001b[38;5;241m.\u001b[39mMiddle[df\u001b[38;5;241m.\u001b[39mStatus\u001b[38;5;241m==\u001b[39m\u001b[38;5;124m\"\u001b[39m\u001b[38;5;124mIncrease\u001b[39m\u001b[38;5;124m\"\u001b[39m], \n\u001b[0;32m      7\u001b[0m        hours_12, df\u001b[38;5;241m.\u001b[39mHeight[df\u001b[38;5;241m.\u001b[39mStatus\u001b[38;5;241m==\u001b[39m\u001b[38;5;124m\"\u001b[39m\u001b[38;5;124mIncrease\u001b[39m\u001b[38;5;124m\"\u001b[39m],fill_color\u001b[38;5;241m=\u001b[39m\u001b[38;5;124m\"\u001b[39m\u001b[38;5;124mgreen\u001b[39m\u001b[38;5;124m\"\u001b[39m, line_color\u001b[38;5;241m=\u001b[39m\u001b[38;5;124m\"\u001b[39m\u001b[38;5;124mblack\u001b[39m\u001b[38;5;124m\"\u001b[39m)\n\u001b[1;32m----> 9\u001b[0m p\u001b[38;5;241m.\u001b[39mrect(df\u001b[38;5;241m.\u001b[39mindex[df\u001b[38;5;241m.\u001b[39mStatus\u001b[38;5;241m==\u001b[39m\u001b[38;5;124m\"\u001b[39m\u001b[38;5;124mDecrease\u001b[39m\u001b[38;5;124m\"\u001b[39m], \u001b[43mdf\u001b[49m\u001b[38;5;241;43m.\u001b[39;49m\u001b[43mMidle\u001b[49m[df\u001b[38;5;241m.\u001b[39mStatus\u001b[38;5;241m==\u001b[39m\u001b[38;5;124m\"\u001b[39m\u001b[38;5;124mDecrease\u001b[39m\u001b[38;5;124m\"\u001b[39m], \n\u001b[0;32m     10\u001b[0m        hours_12, df\u001b[38;5;241m.\u001b[39mHeight[df\u001b[38;5;241m.\u001b[39mStatus\u001b[38;5;241m==\u001b[39m\u001b[38;5;124m\"\u001b[39m\u001b[38;5;124mDecrease\u001b[39m\u001b[38;5;124m\"\u001b[39m],fill_color\u001b[38;5;241m=\u001b[39m\u001b[38;5;124m\"\u001b[39m\u001b[38;5;124mred\u001b[39m\u001b[38;5;124m\"\u001b[39m, line_color\u001b[38;5;241m=\u001b[39m\u001b[38;5;124m\"\u001b[39m\u001b[38;5;124mblack\u001b[39m\u001b[38;5;124m\"\u001b[39m)\n\u001b[0;32m     12\u001b[0m output_file\u001b[38;5;241m=\u001b[39m(\u001b[38;5;124m\"\u001b[39m\u001b[38;5;124mStock.html\u001b[39m\u001b[38;5;124m\"\u001b[39m)\n\u001b[0;32m     13\u001b[0m show(p)\n",
      "File \u001b[1;32m~\\AppData\\Local\\Programs\\Python\\Python310\\lib\\site-packages\\pandas\\core\\generic.py:5575\u001b[0m, in \u001b[0;36mNDFrame.__getattr__\u001b[1;34m(self, name)\u001b[0m\n\u001b[0;32m   5568\u001b[0m \u001b[38;5;28;01mif\u001b[39;00m (\n\u001b[0;32m   5569\u001b[0m     name \u001b[38;5;129;01mnot\u001b[39;00m \u001b[38;5;129;01min\u001b[39;00m \u001b[38;5;28mself\u001b[39m\u001b[38;5;241m.\u001b[39m_internal_names_set\n\u001b[0;32m   5570\u001b[0m     \u001b[38;5;129;01mand\u001b[39;00m name \u001b[38;5;129;01mnot\u001b[39;00m \u001b[38;5;129;01min\u001b[39;00m \u001b[38;5;28mself\u001b[39m\u001b[38;5;241m.\u001b[39m_metadata\n\u001b[0;32m   5571\u001b[0m     \u001b[38;5;129;01mand\u001b[39;00m name \u001b[38;5;129;01mnot\u001b[39;00m \u001b[38;5;129;01min\u001b[39;00m \u001b[38;5;28mself\u001b[39m\u001b[38;5;241m.\u001b[39m_accessors\n\u001b[0;32m   5572\u001b[0m     \u001b[38;5;129;01mand\u001b[39;00m \u001b[38;5;28mself\u001b[39m\u001b[38;5;241m.\u001b[39m_info_axis\u001b[38;5;241m.\u001b[39m_can_hold_identifiers_and_holds_name(name)\n\u001b[0;32m   5573\u001b[0m ):\n\u001b[0;32m   5574\u001b[0m     \u001b[38;5;28;01mreturn\u001b[39;00m \u001b[38;5;28mself\u001b[39m[name]\n\u001b[1;32m-> 5575\u001b[0m \u001b[38;5;28;01mreturn\u001b[39;00m \u001b[38;5;28;43mobject\u001b[39;49m\u001b[38;5;241;43m.\u001b[39;49m\u001b[38;5;21;43m__getattribute__\u001b[39;49m\u001b[43m(\u001b[49m\u001b[38;5;28;43mself\u001b[39;49m\u001b[43m,\u001b[49m\u001b[43m \u001b[49m\u001b[43mname\u001b[49m\u001b[43m)\u001b[49m\n",
      "\u001b[1;31mAttributeError\u001b[0m: 'DataFrame' object has no attribute 'Midle'"
     ]
    }
   ],
   "source": [
    "p=figure(x_axis_type='datetime', width=1000, height=500)\n",
    "p.title=\"Candlestick Chart\"\n",
    "\n",
    "hours_12=12*60*60*1000\n",
    "\n",
    "p.rect(df.index[df.Status==\"Increase\"], df.Middle[df.Status==\"Increase\"], \n",
    "       hours_12, df.Height[df.Status==\"Increase\"],fill_color=\"green\", line_color=\"black\")\n",
    "\n",
    "p.rect(df.index[df.Status==\"Decrease\"], df.Middle[df.Status==\"Decrease\"], \n",
    "       hours_12, df.Height[df.Status==\"Decrease\"],fill_color=\"red\", line_color=\"black\")\n",
    "\n",
    "output_file=(\"Stock.html\")\n",
    "show(p)"
   ]
  },
  {
   "cell_type": "code",
   "execution_count": null,
   "id": "72d4a2ab",
   "metadata": {},
   "outputs": [],
   "source": []
  }
 ],
 "metadata": {
  "kernelspec": {
   "display_name": "Python 3 (ipykernel)",
   "language": "python",
   "name": "python3"
  },
  "language_info": {
   "codemirror_mode": {
    "name": "ipython",
    "version": 3
   },
   "file_extension": ".py",
   "mimetype": "text/x-python",
   "name": "python",
   "nbconvert_exporter": "python",
   "pygments_lexer": "ipython3",
   "version": "3.10.7"
  }
 },
 "nbformat": 4,
 "nbformat_minor": 5
}
